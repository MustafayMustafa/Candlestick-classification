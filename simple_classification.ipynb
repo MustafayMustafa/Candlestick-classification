{
 "metadata": {
  "language_info": {
   "codemirror_mode": {
    "name": "ipython",
    "version": 3
   },
   "file_extension": ".py",
   "mimetype": "text/x-python",
   "name": "python",
   "nbconvert_exporter": "python",
   "pygments_lexer": "ipython3",
   "version": "3.8.5-final"
  },
  "orig_nbformat": 2,
  "kernelspec": {
   "name": "Python 3.8.5 64-bit ('machine-learning': conda)",
   "display_name": "Python 3.8.5 64-bit ('machine-learning': conda)",
   "metadata": {
    "interpreter": {
     "hash": "ea832850bca180edfd9f7883b29c17be7092b6393b31cdb7e45e095a601142f8"
    }
   }
  }
 },
 "nbformat": 4,
 "nbformat_minor": 2,
 "cells": [
  {
   "source": [
    "# Gathering historial GBP/USD data\n",
    "Data is gathered from Yahoo Finance using pandas-datareader. The data required is the foundations of a candlestick {open, close, high, low}."
   ],
   "cell_type": "markdown",
   "metadata": {}
  },
  {
   "cell_type": "code",
   "execution_count": 42,
   "metadata": {},
   "outputs": [],
   "source": [
    "import pandas_datareader as pdr"
   ]
  },
  {
   "cell_type": "code",
   "execution_count": 43,
   "metadata": {},
   "outputs": [],
   "source": [
    "'''\n",
    "Gathers candlestick data of specified curreny pair.\n",
    "Data collected from Yahoo Finance.\n",
    "Information returned:\n",
    "    - Date\n",
    "    - High price\n",
    "    - Low price\n",
    "    - Open price\n",
    "    - Close price\n",
    "    - Adj Close price\n",
    "\n",
    "Args:\n",
    "    - curency_pair: (String) currency pair to fetch, must match source information.\n",
    "    - start_date: (String-Date) starting date to fetch historical data.\n",
    "'''\n",
    "def get_currency_data(currency_pair, start_date):\n",
    "    currency_pair = currency_pair\n",
    "    df = pdr.data.DataReader(currency_pair, data_source='yahoo', start=start_date)\n",
    "    \n",
    "    return df.reset_index()\n",
    "    "
   ]
  },
  {
   "cell_type": "code",
   "execution_count": 44,
   "metadata": {},
   "outputs": [
    {
     "output_type": "stream",
     "name": "stdout",
     "text": [
      "         Date      High       Low      Open     Close  Volume  Adj Close\n0  2020-08-31  1.348072  1.335648  1.336505  1.336452       0   1.336452\n1  2020-09-01  1.340141  1.328533  1.340051  1.339944       0   1.339944\n2  2020-09-02  1.334999  1.324696  1.334999  1.335131       0   1.335131\n3  2020-09-03  1.331824  1.317801  1.326700  1.326225       0   1.326225\n4  2020-09-06  1.325908  1.314302  1.324837  1.324574       0   1.324574\n5  2020-09-07  1.316656  1.301219  1.316257  1.316222       0   1.316222\n6  2020-09-08  1.301795  1.288726  1.296798  1.296849       0   1.296849\n7  2020-09-09  1.303356  1.284406  1.299883  1.299917       0   1.299917\n8  2020-09-10  1.286008  1.276585  1.281082  1.280830       0   1.280830\n9  2020-09-13  1.291506  1.279198  1.280984  1.280656       0   1.280656\n10 2020-09-14  1.292491  1.281723  1.284687  1.284967       0   1.284967\n11 2020-09-15  1.300576  1.287830  1.288328  1.288477       0   1.288477\n12 2020-09-16  1.299511  1.286654  1.296109  1.296000       0   1.296000\n13 2020-09-17  1.299917  1.293661  1.298415  1.297555       0   1.297555\n14 2020-09-20  1.296613  1.278159  1.293343  1.293276       0   1.293276\n15 2020-09-21  1.286587  1.271407  1.281673  1.282051       0   1.282051\n16 2020-09-22  1.277580  1.267957  1.274356  1.274405       0   1.274405\n17 2020-09-23  1.277449  1.269277  1.271795  1.271747       0   1.271747\n18 2020-09-24  1.280377  1.269132  1.275657  1.275705       0   1.275705\n19 2020-09-27  1.291906  1.275315  1.276539  1.276683       0   1.276683\n20 2020-09-28  1.289873  1.283648  1.287283  1.287349       0   1.287349\n21 2020-09-29  1.293962  1.280787  1.286505  1.286654       0   1.286654\n22 2020-09-30  1.298027  1.282298  1.291823  1.291756       0   1.291756\n23 2020-10-01  1.295102  1.283961  1.288560  1.288627       0   1.288627\n24 2020-10-04  1.298752  1.290156  1.292808  1.293109       0   1.293109\n25 2020-10-05  1.300898  1.292340  1.299207  1.299258       0   1.299258\n26 2020-10-06  1.292925  1.285033  1.288477  1.288328       0   1.288328\n27 2020-10-07  1.296933  1.289657  1.291656  1.291756       0   1.291756\n28 2020-10-08  1.301507  1.292674  1.293929  1.294046       0   1.294046\n"
     ]
    }
   ],
   "source": [
    "cdata = get_currency_data(currency_pair='GBPUSD=X', start_date='9-1-2020')\n",
    "print(cdata)\n"
   ]
  },
  {
   "source": [
    "# Plotting time series-data"
   ],
   "cell_type": "markdown",
   "metadata": {}
  },
  {
   "cell_type": "code",
   "execution_count": 45,
   "metadata": {},
   "outputs": [],
   "source": [
    "import pandas as pd\n",
    "import plotly.graph_objects as go"
   ]
  },
  {
   "cell_type": "code",
   "execution_count": 46,
   "metadata": {},
   "outputs": [],
   "source": [
    "\n",
    "def plot_candle(data):\n",
    "    fig = go.Figure(data=[go.Candlestick(x=data['Date'],\n",
    "                open=data['Open'], \n",
    "                high=data['High'],\n",
    "                low=data['Low'], \n",
    "                close=data['Close'])\n",
    "    ])\n",
    "\n",
    "    fig.update_layout(xaxis_rangeslider_visible=False)\n",
    "    fig.show()\n",
    "\n"
   ]
  },
  {
   "cell_type": "code",
   "execution_count": 47,
   "metadata": {},
   "outputs": [
    {
     "output_type": "display_data",
     "data": {
      "application/vnd.plotly.v1+json": {
       "config": {
        "plotlyServerURL": "https://plot.ly"
       },
       "data": [
        {
         "close": [
          1.3364516496658325,
          1.339943766593933,
          1.335131287574768,
          1.3262248039245605,
          1.3245735168457031,
          1.3162224292755127,
          1.2968486547470093,
          1.2999167442321777,
          1.2808295488357544,
          1.2806557416915894,
          1.2849671840667725,
          1.2884771823883057,
          1.2959998846054077,
          1.2975554466247559,
          1.2932761907577515,
          1.2820513248443604,
          1.2744048833847046,
          1.2717468738555908,
          1.2757054567337036,
          1.2766826152801514,
          1.2873492240905762,
          1.2866535186767578,
          1.2917560338974,
          1.2886265516281128,
          1.2931090593338013,
          1.2992581129074097,
          1.2883278131484985,
          1.2917560338974,
          1.29404616355896
         ],
         "high": [
          1.3480722904205322,
          1.3401411771774292,
          1.3349993228912354,
          1.3318239450454712,
          1.3259083032608032,
          1.3166556358337402,
          1.3017951250076294,
          1.3033561706542969,
          1.2860082387924194,
          1.2915056943893433,
          1.2924906015396118,
          1.300576090812683,
          1.299511432647705,
          1.2999167442321777,
          1.2966132164001465,
          1.2865873575210571,
          1.2775797843933105,
          1.2774492502212524,
          1.28037691116333,
          1.2919062376022339,
          1.2898732423782349,
          1.2939623594284058,
          1.2980270385742188,
          1.2951018810272217,
          1.298751950263977,
          1.3008975982666016,
          1.2929251194000244,
          1.2969328165054321,
          1.3015071153640747
         ],
         "low": [
          1.3356484174728394,
          1.3285329341888428,
          1.3246963024139404,
          1.317800760269165,
          1.3143022060394287,
          1.3012192249298096,
          1.2887262105941772,
          1.284406065940857,
          1.2765848636627197,
          1.2791976928710938,
          1.2817226648330688,
          1.2878299951553345,
          1.2866535186767578,
          1.2936609983444214,
          1.278159499168396,
          1.2714072465896606,
          1.2679574489593506,
          1.2692770957946777,
          1.269132137298584,
          1.2753149271011353,
          1.2836475372314453,
          1.2807868719100952,
          1.2822978496551514,
          1.2839607000350952,
          1.2901561260223389,
          1.2923402786254883,
          1.2850332260131836,
          1.2896569967269897,
          1.2926744222640991
         ],
         "open": [
          1.3365052938461304,
          1.3400514125823975,
          1.3349993228912354,
          1.3266997337341309,
          1.3248367309570312,
          1.316257119178772,
          1.2967981100082397,
          1.2998830080032349,
          1.281082272529602,
          1.280983805656433,
          1.28468656539917,
          1.2883278131484985,
          1.2961090803146362,
          1.298414707183838,
          1.2933430671691895,
          1.2816734313964844,
          1.2743561267852783,
          1.271795392036438,
          1.2756567001342773,
          1.2765392065048218,
          1.287282943725586,
          1.2865046262741089,
          1.2918227910995483,
          1.288560152053833,
          1.292808175086975,
          1.2992074489593506,
          1.2884771823883057,
          1.2916558980941772,
          1.293928861618042
         ],
         "type": "candlestick",
         "x": [
          "2020-08-31T00:00:00",
          "2020-09-01T00:00:00",
          "2020-09-02T00:00:00",
          "2020-09-03T00:00:00",
          "2020-09-06T00:00:00",
          "2020-09-07T00:00:00",
          "2020-09-08T00:00:00",
          "2020-09-09T00:00:00",
          "2020-09-10T00:00:00",
          "2020-09-13T00:00:00",
          "2020-09-14T00:00:00",
          "2020-09-15T00:00:00",
          "2020-09-16T00:00:00",
          "2020-09-17T00:00:00",
          "2020-09-20T00:00:00",
          "2020-09-21T00:00:00",
          "2020-09-22T00:00:00",
          "2020-09-23T00:00:00",
          "2020-09-24T00:00:00",
          "2020-09-27T00:00:00",
          "2020-09-28T00:00:00",
          "2020-09-29T00:00:00",
          "2020-09-30T00:00:00",
          "2020-10-01T00:00:00",
          "2020-10-04T00:00:00",
          "2020-10-05T00:00:00",
          "2020-10-06T00:00:00",
          "2020-10-07T00:00:00",
          "2020-10-08T00:00:00"
         ]
        }
       ],
       "layout": {
        "template": {
         "data": {
          "bar": [
           {
            "error_x": {
             "color": "#2a3f5f"
            },
            "error_y": {
             "color": "#2a3f5f"
            },
            "marker": {
             "line": {
              "color": "#E5ECF6",
              "width": 0.5
             }
            },
            "type": "bar"
           }
          ],
          "barpolar": [
           {
            "marker": {
             "line": {
              "color": "#E5ECF6",
              "width": 0.5
             }
            },
            "type": "barpolar"
           }
          ],
          "carpet": [
           {
            "aaxis": {
             "endlinecolor": "#2a3f5f",
             "gridcolor": "white",
             "linecolor": "white",
             "minorgridcolor": "white",
             "startlinecolor": "#2a3f5f"
            },
            "baxis": {
             "endlinecolor": "#2a3f5f",
             "gridcolor": "white",
             "linecolor": "white",
             "minorgridcolor": "white",
             "startlinecolor": "#2a3f5f"
            },
            "type": "carpet"
           }
          ],
          "choropleth": [
           {
            "colorbar": {
             "outlinewidth": 0,
             "ticks": ""
            },
            "type": "choropleth"
           }
          ],
          "contour": [
           {
            "colorbar": {
             "outlinewidth": 0,
             "ticks": ""
            },
            "colorscale": [
             [
              0,
              "#0d0887"
             ],
             [
              0.1111111111111111,
              "#46039f"
             ],
             [
              0.2222222222222222,
              "#7201a8"
             ],
             [
              0.3333333333333333,
              "#9c179e"
             ],
             [
              0.4444444444444444,
              "#bd3786"
             ],
             [
              0.5555555555555556,
              "#d8576b"
             ],
             [
              0.6666666666666666,
              "#ed7953"
             ],
             [
              0.7777777777777778,
              "#fb9f3a"
             ],
             [
              0.8888888888888888,
              "#fdca26"
             ],
             [
              1,
              "#f0f921"
             ]
            ],
            "type": "contour"
           }
          ],
          "contourcarpet": [
           {
            "colorbar": {
             "outlinewidth": 0,
             "ticks": ""
            },
            "type": "contourcarpet"
           }
          ],
          "heatmap": [
           {
            "colorbar": {
             "outlinewidth": 0,
             "ticks": ""
            },
            "colorscale": [
             [
              0,
              "#0d0887"
             ],
             [
              0.1111111111111111,
              "#46039f"
             ],
             [
              0.2222222222222222,
              "#7201a8"
             ],
             [
              0.3333333333333333,
              "#9c179e"
             ],
             [
              0.4444444444444444,
              "#bd3786"
             ],
             [
              0.5555555555555556,
              "#d8576b"
             ],
             [
              0.6666666666666666,
              "#ed7953"
             ],
             [
              0.7777777777777778,
              "#fb9f3a"
             ],
             [
              0.8888888888888888,
              "#fdca26"
             ],
             [
              1,
              "#f0f921"
             ]
            ],
            "type": "heatmap"
           }
          ],
          "heatmapgl": [
           {
            "colorbar": {
             "outlinewidth": 0,
             "ticks": ""
            },
            "colorscale": [
             [
              0,
              "#0d0887"
             ],
             [
              0.1111111111111111,
              "#46039f"
             ],
             [
              0.2222222222222222,
              "#7201a8"
             ],
             [
              0.3333333333333333,
              "#9c179e"
             ],
             [
              0.4444444444444444,
              "#bd3786"
             ],
             [
              0.5555555555555556,
              "#d8576b"
             ],
             [
              0.6666666666666666,
              "#ed7953"
             ],
             [
              0.7777777777777778,
              "#fb9f3a"
             ],
             [
              0.8888888888888888,
              "#fdca26"
             ],
             [
              1,
              "#f0f921"
             ]
            ],
            "type": "heatmapgl"
           }
          ],
          "histogram": [
           {
            "marker": {
             "colorbar": {
              "outlinewidth": 0,
              "ticks": ""
             }
            },
            "type": "histogram"
           }
          ],
          "histogram2d": [
           {
            "colorbar": {
             "outlinewidth": 0,
             "ticks": ""
            },
            "colorscale": [
             [
              0,
              "#0d0887"
             ],
             [
              0.1111111111111111,
              "#46039f"
             ],
             [
              0.2222222222222222,
              "#7201a8"
             ],
             [
              0.3333333333333333,
              "#9c179e"
             ],
             [
              0.4444444444444444,
              "#bd3786"
             ],
             [
              0.5555555555555556,
              "#d8576b"
             ],
             [
              0.6666666666666666,
              "#ed7953"
             ],
             [
              0.7777777777777778,
              "#fb9f3a"
             ],
             [
              0.8888888888888888,
              "#fdca26"
             ],
             [
              1,
              "#f0f921"
             ]
            ],
            "type": "histogram2d"
           }
          ],
          "histogram2dcontour": [
           {
            "colorbar": {
             "outlinewidth": 0,
             "ticks": ""
            },
            "colorscale": [
             [
              0,
              "#0d0887"
             ],
             [
              0.1111111111111111,
              "#46039f"
             ],
             [
              0.2222222222222222,
              "#7201a8"
             ],
             [
              0.3333333333333333,
              "#9c179e"
             ],
             [
              0.4444444444444444,
              "#bd3786"
             ],
             [
              0.5555555555555556,
              "#d8576b"
             ],
             [
              0.6666666666666666,
              "#ed7953"
             ],
             [
              0.7777777777777778,
              "#fb9f3a"
             ],
             [
              0.8888888888888888,
              "#fdca26"
             ],
             [
              1,
              "#f0f921"
             ]
            ],
            "type": "histogram2dcontour"
           }
          ],
          "mesh3d": [
           {
            "colorbar": {
             "outlinewidth": 0,
             "ticks": ""
            },
            "type": "mesh3d"
           }
          ],
          "parcoords": [
           {
            "line": {
             "colorbar": {
              "outlinewidth": 0,
              "ticks": ""
             }
            },
            "type": "parcoords"
           }
          ],
          "pie": [
           {
            "automargin": true,
            "type": "pie"
           }
          ],
          "scatter": [
           {
            "marker": {
             "colorbar": {
              "outlinewidth": 0,
              "ticks": ""
             }
            },
            "type": "scatter"
           }
          ],
          "scatter3d": [
           {
            "line": {
             "colorbar": {
              "outlinewidth": 0,
              "ticks": ""
             }
            },
            "marker": {
             "colorbar": {
              "outlinewidth": 0,
              "ticks": ""
             }
            },
            "type": "scatter3d"
           }
          ],
          "scattercarpet": [
           {
            "marker": {
             "colorbar": {
              "outlinewidth": 0,
              "ticks": ""
             }
            },
            "type": "scattercarpet"
           }
          ],
          "scattergeo": [
           {
            "marker": {
             "colorbar": {
              "outlinewidth": 0,
              "ticks": ""
             }
            },
            "type": "scattergeo"
           }
          ],
          "scattergl": [
           {
            "marker": {
             "colorbar": {
              "outlinewidth": 0,
              "ticks": ""
             }
            },
            "type": "scattergl"
           }
          ],
          "scattermapbox": [
           {
            "marker": {
             "colorbar": {
              "outlinewidth": 0,
              "ticks": ""
             }
            },
            "type": "scattermapbox"
           }
          ],
          "scatterpolar": [
           {
            "marker": {
             "colorbar": {
              "outlinewidth": 0,
              "ticks": ""
             }
            },
            "type": "scatterpolar"
           }
          ],
          "scatterpolargl": [
           {
            "marker": {
             "colorbar": {
              "outlinewidth": 0,
              "ticks": ""
             }
            },
            "type": "scatterpolargl"
           }
          ],
          "scatterternary": [
           {
            "marker": {
             "colorbar": {
              "outlinewidth": 0,
              "ticks": ""
             }
            },
            "type": "scatterternary"
           }
          ],
          "surface": [
           {
            "colorbar": {
             "outlinewidth": 0,
             "ticks": ""
            },
            "colorscale": [
             [
              0,
              "#0d0887"
             ],
             [
              0.1111111111111111,
              "#46039f"
             ],
             [
              0.2222222222222222,
              "#7201a8"
             ],
             [
              0.3333333333333333,
              "#9c179e"
             ],
             [
              0.4444444444444444,
              "#bd3786"
             ],
             [
              0.5555555555555556,
              "#d8576b"
             ],
             [
              0.6666666666666666,
              "#ed7953"
             ],
             [
              0.7777777777777778,
              "#fb9f3a"
             ],
             [
              0.8888888888888888,
              "#fdca26"
             ],
             [
              1,
              "#f0f921"
             ]
            ],
            "type": "surface"
           }
          ],
          "table": [
           {
            "cells": {
             "fill": {
              "color": "#EBF0F8"
             },
             "line": {
              "color": "white"
             }
            },
            "header": {
             "fill": {
              "color": "#C8D4E3"
             },
             "line": {
              "color": "white"
             }
            },
            "type": "table"
           }
          ]
         },
         "layout": {
          "annotationdefaults": {
           "arrowcolor": "#2a3f5f",
           "arrowhead": 0,
           "arrowwidth": 1
          },
          "coloraxis": {
           "colorbar": {
            "outlinewidth": 0,
            "ticks": ""
           }
          },
          "colorscale": {
           "diverging": [
            [
             0,
             "#8e0152"
            ],
            [
             0.1,
             "#c51b7d"
            ],
            [
             0.2,
             "#de77ae"
            ],
            [
             0.3,
             "#f1b6da"
            ],
            [
             0.4,
             "#fde0ef"
            ],
            [
             0.5,
             "#f7f7f7"
            ],
            [
             0.6,
             "#e6f5d0"
            ],
            [
             0.7,
             "#b8e186"
            ],
            [
             0.8,
             "#7fbc41"
            ],
            [
             0.9,
             "#4d9221"
            ],
            [
             1,
             "#276419"
            ]
           ],
           "sequential": [
            [
             0,
             "#0d0887"
            ],
            [
             0.1111111111111111,
             "#46039f"
            ],
            [
             0.2222222222222222,
             "#7201a8"
            ],
            [
             0.3333333333333333,
             "#9c179e"
            ],
            [
             0.4444444444444444,
             "#bd3786"
            ],
            [
             0.5555555555555556,
             "#d8576b"
            ],
            [
             0.6666666666666666,
             "#ed7953"
            ],
            [
             0.7777777777777778,
             "#fb9f3a"
            ],
            [
             0.8888888888888888,
             "#fdca26"
            ],
            [
             1,
             "#f0f921"
            ]
           ],
           "sequentialminus": [
            [
             0,
             "#0d0887"
            ],
            [
             0.1111111111111111,
             "#46039f"
            ],
            [
             0.2222222222222222,
             "#7201a8"
            ],
            [
             0.3333333333333333,
             "#9c179e"
            ],
            [
             0.4444444444444444,
             "#bd3786"
            ],
            [
             0.5555555555555556,
             "#d8576b"
            ],
            [
             0.6666666666666666,
             "#ed7953"
            ],
            [
             0.7777777777777778,
             "#fb9f3a"
            ],
            [
             0.8888888888888888,
             "#fdca26"
            ],
            [
             1,
             "#f0f921"
            ]
           ]
          },
          "colorway": [
           "#636efa",
           "#EF553B",
           "#00cc96",
           "#ab63fa",
           "#FFA15A",
           "#19d3f3",
           "#FF6692",
           "#B6E880",
           "#FF97FF",
           "#FECB52"
          ],
          "font": {
           "color": "#2a3f5f"
          },
          "geo": {
           "bgcolor": "white",
           "lakecolor": "white",
           "landcolor": "#E5ECF6",
           "showlakes": true,
           "showland": true,
           "subunitcolor": "white"
          },
          "hoverlabel": {
           "align": "left"
          },
          "hovermode": "closest",
          "mapbox": {
           "style": "light"
          },
          "paper_bgcolor": "white",
          "plot_bgcolor": "#E5ECF6",
          "polar": {
           "angularaxis": {
            "gridcolor": "white",
            "linecolor": "white",
            "ticks": ""
           },
           "bgcolor": "#E5ECF6",
           "radialaxis": {
            "gridcolor": "white",
            "linecolor": "white",
            "ticks": ""
           }
          },
          "scene": {
           "xaxis": {
            "backgroundcolor": "#E5ECF6",
            "gridcolor": "white",
            "gridwidth": 2,
            "linecolor": "white",
            "showbackground": true,
            "ticks": "",
            "zerolinecolor": "white"
           },
           "yaxis": {
            "backgroundcolor": "#E5ECF6",
            "gridcolor": "white",
            "gridwidth": 2,
            "linecolor": "white",
            "showbackground": true,
            "ticks": "",
            "zerolinecolor": "white"
           },
           "zaxis": {
            "backgroundcolor": "#E5ECF6",
            "gridcolor": "white",
            "gridwidth": 2,
            "linecolor": "white",
            "showbackground": true,
            "ticks": "",
            "zerolinecolor": "white"
           }
          },
          "shapedefaults": {
           "line": {
            "color": "#2a3f5f"
           }
          },
          "ternary": {
           "aaxis": {
            "gridcolor": "white",
            "linecolor": "white",
            "ticks": ""
           },
           "baxis": {
            "gridcolor": "white",
            "linecolor": "white",
            "ticks": ""
           },
           "bgcolor": "#E5ECF6",
           "caxis": {
            "gridcolor": "white",
            "linecolor": "white",
            "ticks": ""
           }
          },
          "title": {
           "x": 0.05
          },
          "xaxis": {
           "automargin": true,
           "gridcolor": "white",
           "linecolor": "white",
           "ticks": "",
           "title": {
            "standoff": 15
           },
           "zerolinecolor": "white",
           "zerolinewidth": 2
          },
          "yaxis": {
           "automargin": true,
           "gridcolor": "white",
           "linecolor": "white",
           "ticks": "",
           "title": {
            "standoff": 15
           },
           "zerolinecolor": "white",
           "zerolinewidth": 2
          }
         }
        },
        "xaxis": {
         "rangeslider": {
          "visible": false
         }
        }
       }
      }
     },
     "metadata": {}
    }
   ],
   "source": [
    "plot_candle(cdata)"
   ]
  },
  {
   "cell_type": "code",
   "execution_count": null,
   "metadata": {},
   "outputs": [],
   "source": []
  }
 ]
}