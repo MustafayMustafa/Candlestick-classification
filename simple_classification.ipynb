{
 "metadata": {
  "language_info": {
   "codemirror_mode": {
    "name": "ipython",
    "version": 3
   },
   "file_extension": ".py",
   "mimetype": "text/x-python",
   "name": "python",
   "nbconvert_exporter": "python",
   "pygments_lexer": "ipython3",
   "version": "3.8.5-final"
  },
  "orig_nbformat": 2,
  "kernelspec": {
   "name": "Python 3.8.5 64-bit ('machine-learning': conda)",
   "display_name": "Python 3.8.5 64-bit ('machine-learning': conda)",
   "metadata": {
    "interpreter": {
     "hash": "ea832850bca180edfd9f7883b29c17be7092b6393b31cdb7e45e095a601142f8"
    }
   }
  }
 },
 "nbformat": 4,
 "nbformat_minor": 2,
 "cells": [
  {
   "source": [
    "# Gathering historial GBP/USD data\n",
    "Data is gathered from Yahoo Finance using pandas-datareader. The data required is the foundations of a candlestick {open, close, high, low}."
   ],
   "cell_type": "markdown",
   "metadata": {}
  },
  {
   "cell_type": "code",
   "execution_count": 1,
   "metadata": {},
   "outputs": [],
   "source": [
    "import pandas_datareader as pdr"
   ]
  },
  {
   "cell_type": "code",
   "execution_count": 2,
   "metadata": {},
   "outputs": [],
   "source": [
    "'''\n",
    "Gathers candlestick data of specified curreny pair.\n",
    "Data collected from Yahoo Finance.\n",
    "Information returned:\n",
    "    - Date\n",
    "    - High price\n",
    "    - Low price\n",
    "    - Open price\n",
    "    - Close price\n",
    "    - Adj Close price\n",
    "\n",
    "Args:\n",
    "    - curency_pair: (String) currency pair to fetch, must match source information.\n",
    "    - start_date: (String-Date) starting date to fetch historical data. M-D-Y\n",
    "'''\n",
    "def get_currency_data(currency_pair, start_date):\n",
    "    currency_pair = currency_pair\n",
    "    \n",
    "    df = pdr.data.DataReader(currency_pair, data_source='yahoo', start=start_date)\n",
    "    \n",
    "    return df.reset_index()\n",
    "    "
   ]
  },
  {
   "cell_type": "code",
   "execution_count": 76,
   "metadata": {},
   "outputs": [
    {
     "output_type": "stream",
     "name": "stdout",
     "text": [
      "        Date      High       Low      Open     Close  Volume  Adj Close\n0 2020-09-30  1.298027  1.282298  1.291823  1.291756       0   1.291756\n1 2020-10-01  1.295102  1.283961  1.288560  1.288627       0   1.288627\n2 2020-10-04  1.298752  1.290156  1.292808  1.293109       0   1.293109\n3 2020-10-05  1.300898  1.292340  1.299207  1.299258       0   1.299258\n4 2020-10-06  1.292925  1.285033  1.288477  1.288328       0   1.288328\n5 2020-10-07  1.296933  1.289657  1.291656  1.291756       0   1.291756\n6 2020-10-08  1.301507  1.292674  1.293929  1.294046       0   1.294046\n"
     ]
    }
   ],
   "source": [
    "cdata = get_currency_data(currency_pair='GBPUSD=X', start_date='9-1-2020')\n",
    "print(cdata)\n"
   ]
  },
  {
   "source": [
    "# Plotting time series-data"
   ],
   "cell_type": "markdown",
   "metadata": {}
  },
  {
   "cell_type": "code",
   "execution_count": 77,
   "metadata": {},
   "outputs": [],
   "source": [
    "import pandas as pd\n",
    "import plotly.graph_objects as go"
   ]
  },
  {
   "cell_type": "code",
   "execution_count": 78,
   "metadata": {},
   "outputs": [
    {
     "output_type": "execute_result",
     "data": {
      "text/plain": [
       "\" Depreciating function to convert to matplotlib\\ndef plot_candle(data):\\n    fig = go.Figure(data=[go.Candlestick(x=data['Date'],\\n                open=data['Open'], \\n                high=data['High'],\\n                low=data['Low'], \\n                close=data['Close'])\\n    ])\\n\\n    fig.update_layout(xaxis_rangeslider_visible=False)\\n    fig.show()\\n\""
      ]
     },
     "metadata": {},
     "execution_count": 78
    }
   ],
   "source": [
    "'''\n",
    "Function plots candlestick chart using pyplot.\n",
    "'''\n",
    "\n",
    "''' Depreciating function to convert to matplotlib\n",
    "def plot_candle(data):\n",
    "    fig = go.Figure(data=[go.Candlestick(x=data['Date'],\n",
    "                open=data['Open'], \n",
    "                high=data['High'],\n",
    "                low=data['Low'], \n",
    "                close=data['Close'])\n",
    "    ])\n",
    "\n",
    "    fig.update_layout(xaxis_rangeslider_visible=False)\n",
    "    fig.show()\n",
    "'''\n"
   ]
  },
  {
   "cell_type": "code",
   "execution_count": 79,
   "metadata": {},
   "outputs": [],
   "source": [
    "#plot_candle(cdata)"
   ]
  },
  {
   "source": [
    "### Matplotlib implmentation"
   ],
   "cell_type": "markdown",
   "metadata": {}
  },
  {
   "cell_type": "code",
   "execution_count": 80,
   "metadata": {},
   "outputs": [],
   "source": [
    "import matplotlib.pyplot as plt\n",
    "import numpy as np\n",
    "import pandas as pd\n",
    "from datetime import date"
   ]
  },
  {
   "cell_type": "code",
   "execution_count": 81,
   "metadata": {},
   "outputs": [],
   "source": [
    "'''\n",
    "plot_candlestick function creates a candlestick chart from the pandas dataframe using matplotlib.\n",
    "Accredication to \"https://gist.github.com/shaan2909/402b3aa94de66e463e96cc2f5ebfe714#file-candles1-ipynb\" for the function.\n",
    "'''\n",
    "def plot_candlestick(data):\n",
    "\n",
    "    color_function=None\n",
    "    def default_color(index, open_price, close_price, low, high,):\n",
    "            return 'r' if open_price[index] > close_price[index] else 'g'\n",
    "    color_function = color_function or default_color\n",
    "\n",
    "    open_price = data['Open']\n",
    "    close_price = data['Close']\n",
    "    low = data['Low']\n",
    "    high = data['High']\n",
    "\n",
    "    oc_min = pd.concat([open_price, close_price], axis=1).min(axis=1)\n",
    "    oc_max = pd.concat([open_price, close_price], axis=1).max(axis=1)\n",
    "\n",
    "    fig, ax1 = plt.subplots(1, 1)\n",
    "    fig.tight_layout()\n",
    "\n",
    "    x = np.arange(len(cdata))\n",
    "    candle_colors = [color_function(i, open_price, close_price, low, high) for i in x]\n",
    "    candles = ax1.bar(x, oc_max-oc_min, bottom=oc_min, color=candle_colors, linewidth=0)\n",
    "    lines = ax1.vlines(x , low, high, color=candle_colors, linewidth=1)\n",
    "    ax1.xaxis.grid(True)\n",
    "    ax1.yaxis.grid(True)\n",
    "    ax1.xaxis.set_tick_params(which='major', length=3.0, direction='in', top='off')\n",
    "    ax1.set_yticklabels([])\n",
    "    ax1.set_xticklabels([])\n",
    "\n",
    "    # Assume minute frequency if first two bars are in the same day.\n",
    "    frequency = 'minute' if (data.iloc[1][0] - data.iloc[0][0]).days == 0 else 'day'\n",
    "    time_format = '%d-%m-%Y'\n",
    "    if (frequency == 'minute'):\n",
    "        time_format = '%H:%M'\n",
    "\n",
    "    # Set X axis tick labels.\n",
    "    #plt.xticks(x, [date.strftime(time_format) for date in pricing.index], rotation='vertical')\n",
    "\n",
    "    return fig\n"
   ]
  },
  {
   "cell_type": "code",
   "execution_count": 82,
   "metadata": {},
   "outputs": [
    {
     "output_type": "display_data",
     "data": {
      "text/plain": "<Figure size 432x288 with 1 Axes>",
      "image/svg+xml": "<?xml version=\"1.0\" encoding=\"utf-8\" standalone=\"no\"?>\n<!DOCTYPE svg PUBLIC \"-//W3C//DTD SVG 1.1//EN\"\n  \"http://www.w3.org/Graphics/SVG/1.1/DTD/svg11.dtd\">\n<!-- Created with matplotlib (https://matplotlib.org/) -->\n<svg height=\"259.8pt\" version=\"1.1\" viewBox=\"0 0 397.3 259.8\" width=\"397.3pt\" xmlns=\"http://www.w3.org/2000/svg\" xmlns:xlink=\"http://www.w3.org/1999/xlink\">\n <metadata>\n  <rdf:RDF xmlns:cc=\"http://creativecommons.org/ns#\" xmlns:dc=\"http://purl.org/dc/elements/1.1/\" xmlns:rdf=\"http://www.w3.org/1999/02/22-rdf-syntax-ns#\">\n   <cc:Work>\n    <dc:type rdf:resource=\"http://purl.org/dc/dcmitype/StillImage\"/>\n    <dc:date>2020-10-11T18:36:05.562363</dc:date>\n    <dc:format>image/svg+xml</dc:format>\n    <dc:creator>\n     <cc:Agent>\n      <dc:title>Matplotlib v3.3.1, https://matplotlib.org/</dc:title>\n     </cc:Agent>\n    </dc:creator>\n   </cc:Work>\n  </rdf:RDF>\n </metadata>\n <defs>\n  <style type=\"text/css\">*{stroke-linecap:butt;stroke-linejoin:round;}</style>\n </defs>\n <g id=\"figure_1\">\n  <g id=\"patch_1\">\n   <path d=\"M 0 259.8 \nL 397.3 259.8 \nL 397.3 0 \nL 0 0 \nz\n\" style=\"fill:none;\"/>\n  </g>\n  <g id=\"axes_1\">\n   <g id=\"patch_2\">\n    <path d=\"M 10.7 252.6 \nL 390.1 252.6 \nL 390.1 7.2 \nL 10.7 7.2 \nz\n\" style=\"fill:#ffffff;\"/>\n   </g>\n   <g id=\"patch_3\">\n    <path clip-path=\"url(#p9299864d75)\" d=\"M 27.945455 131.600812 \nL 68.522995 131.600812 \nL 68.522995 130.825513 \nL 27.945455 130.825513 \nz\n\" style=\"fill:#ff0000;\"/>\n   </g>\n   <g id=\"patch_4\">\n    <path clip-path=\"url(#p9299864d75)\" d=\"M 78.66738 168.716868 \nL 119.24492 168.716868 \nL 119.24492 167.945723 \nL 78.66738 167.945723 \nz\n\" style=\"fill:#008000;\"/>\n   </g>\n   <g id=\"patch_5\">\n    <path clip-path=\"url(#p9299864d75)\" d=\"M 129.389305 119.381546 \nL 169.966845 119.381546 \nL 169.966845 115.887162 \nL 129.389305 115.887162 \nz\n\" style=\"fill:#008000;\"/>\n   </g>\n   <g id=\"patch_6\">\n    <path clip-path=\"url(#p9299864d75)\" d=\"M 180.11123 45.062212 \nL 220.68877 45.062212 \nL 220.68877 44.473816 \nL 180.11123 44.473816 \nz\n\" style=\"fill:#008000;\"/>\n   </g>\n   <g id=\"patch_7\">\n    <path clip-path=\"url(#p9299864d75)\" d=\"M 230.833155 171.415186 \nL 271.410695 171.415186 \nL 271.410695 169.680454 \nL 230.833155 169.680454 \nz\n\" style=\"fill:#ff0000;\"/>\n   </g>\n   <g id=\"patch_8\">\n    <path clip-path=\"url(#p9299864d75)\" d=\"M 281.55508 132.763761 \nL 322.13262 132.763761 \nL 322.13262 131.600812 \nL 281.55508 131.600812 \nz\n\" style=\"fill:#008000;\"/>\n   </g>\n   <g id=\"patch_9\">\n    <path clip-path=\"url(#p9299864d75)\" d=\"M 332.277005 106.366214 \nL 372.854545 106.366214 \nL 372.854545 105.003902 \nL 332.277005 105.003902 \nz\n\" style=\"fill:#008000;\"/>\n   </g>\n   <g id=\"matplotlib.axis_1\">\n    <g id=\"xtick_1\">\n     <g id=\"line2d_1\">\n      <path clip-path=\"url(#p9299864d75)\" d=\"M 48.234225 252.6 \nL 48.234225 7.2 \n\" style=\"fill:none;stroke:#b0b0b0;stroke-linecap:square;stroke-width:0.8;\"/>\n     </g>\n     <g id=\"line2d_2\">\n      <defs>\n       <path d=\"M 0 0 \nL 0 -3 \n\" id=\"m45b76e01ea\" style=\"stroke:#000000;stroke-width:0.8;\"/>\n      </defs>\n      <g>\n       <use style=\"stroke:#000000;stroke-width:0.8;\" x=\"48.234225\" xlink:href=\"#m45b76e01ea\" y=\"252.6\"/>\n      </g>\n     </g>\n     <g id=\"line2d_3\">\n      <defs>\n       <path d=\"M 0 0 \nL 0 3 \n\" id=\"m053518d5d8\" style=\"stroke:#000000;stroke-width:0.8;\"/>\n      </defs>\n      <g>\n       <use style=\"stroke:#000000;stroke-width:0.8;\" x=\"48.234225\" xlink:href=\"#m053518d5d8\" y=\"7.2\"/>\n      </g>\n     </g>\n    </g>\n    <g id=\"xtick_2\">\n     <g id=\"line2d_4\">\n      <path clip-path=\"url(#p9299864d75)\" d=\"M 98.95615 252.6 \nL 98.95615 7.2 \n\" style=\"fill:none;stroke:#b0b0b0;stroke-linecap:square;stroke-width:0.8;\"/>\n     </g>\n     <g id=\"line2d_5\">\n      <g>\n       <use style=\"stroke:#000000;stroke-width:0.8;\" x=\"98.95615\" xlink:href=\"#m45b76e01ea\" y=\"252.6\"/>\n      </g>\n     </g>\n     <g id=\"line2d_6\">\n      <g>\n       <use style=\"stroke:#000000;stroke-width:0.8;\" x=\"98.95615\" xlink:href=\"#m053518d5d8\" y=\"7.2\"/>\n      </g>\n     </g>\n    </g>\n    <g id=\"xtick_3\">\n     <g id=\"line2d_7\">\n      <path clip-path=\"url(#p9299864d75)\" d=\"M 149.678075 252.6 \nL 149.678075 7.2 \n\" style=\"fill:none;stroke:#b0b0b0;stroke-linecap:square;stroke-width:0.8;\"/>\n     </g>\n     <g id=\"line2d_8\">\n      <g>\n       <use style=\"stroke:#000000;stroke-width:0.8;\" x=\"149.678075\" xlink:href=\"#m45b76e01ea\" y=\"252.6\"/>\n      </g>\n     </g>\n     <g id=\"line2d_9\">\n      <g>\n       <use style=\"stroke:#000000;stroke-width:0.8;\" x=\"149.678075\" xlink:href=\"#m053518d5d8\" y=\"7.2\"/>\n      </g>\n     </g>\n    </g>\n    <g id=\"xtick_4\">\n     <g id=\"line2d_10\">\n      <path clip-path=\"url(#p9299864d75)\" d=\"M 200.4 252.6 \nL 200.4 7.2 \n\" style=\"fill:none;stroke:#b0b0b0;stroke-linecap:square;stroke-width:0.8;\"/>\n     </g>\n     <g id=\"line2d_11\">\n      <g>\n       <use style=\"stroke:#000000;stroke-width:0.8;\" x=\"200.4\" xlink:href=\"#m45b76e01ea\" y=\"252.6\"/>\n      </g>\n     </g>\n     <g id=\"line2d_12\">\n      <g>\n       <use style=\"stroke:#000000;stroke-width:0.8;\" x=\"200.4\" xlink:href=\"#m053518d5d8\" y=\"7.2\"/>\n      </g>\n     </g>\n    </g>\n    <g id=\"xtick_5\">\n     <g id=\"line2d_13\">\n      <path clip-path=\"url(#p9299864d75)\" d=\"M 251.121925 252.6 \nL 251.121925 7.2 \n\" style=\"fill:none;stroke:#b0b0b0;stroke-linecap:square;stroke-width:0.8;\"/>\n     </g>\n     <g id=\"line2d_14\">\n      <g>\n       <use style=\"stroke:#000000;stroke-width:0.8;\" x=\"251.121925\" xlink:href=\"#m45b76e01ea\" y=\"252.6\"/>\n      </g>\n     </g>\n     <g id=\"line2d_15\">\n      <g>\n       <use style=\"stroke:#000000;stroke-width:0.8;\" x=\"251.121925\" xlink:href=\"#m053518d5d8\" y=\"7.2\"/>\n      </g>\n     </g>\n    </g>\n    <g id=\"xtick_6\">\n     <g id=\"line2d_16\">\n      <path clip-path=\"url(#p9299864d75)\" d=\"M 301.84385 252.6 \nL 301.84385 7.2 \n\" style=\"fill:none;stroke:#b0b0b0;stroke-linecap:square;stroke-width:0.8;\"/>\n     </g>\n     <g id=\"line2d_17\">\n      <g>\n       <use style=\"stroke:#000000;stroke-width:0.8;\" x=\"301.84385\" xlink:href=\"#m45b76e01ea\" y=\"252.6\"/>\n      </g>\n     </g>\n     <g id=\"line2d_18\">\n      <g>\n       <use style=\"stroke:#000000;stroke-width:0.8;\" x=\"301.84385\" xlink:href=\"#m053518d5d8\" y=\"7.2\"/>\n      </g>\n     </g>\n    </g>\n    <g id=\"xtick_7\">\n     <g id=\"line2d_19\">\n      <path clip-path=\"url(#p9299864d75)\" d=\"M 352.565775 252.6 \nL 352.565775 7.2 \n\" style=\"fill:none;stroke:#b0b0b0;stroke-linecap:square;stroke-width:0.8;\"/>\n     </g>\n     <g id=\"line2d_20\">\n      <g>\n       <use style=\"stroke:#000000;stroke-width:0.8;\" x=\"352.565775\" xlink:href=\"#m45b76e01ea\" y=\"252.6\"/>\n      </g>\n     </g>\n     <g id=\"line2d_21\">\n      <g>\n       <use style=\"stroke:#000000;stroke-width:0.8;\" x=\"352.565775\" xlink:href=\"#m053518d5d8\" y=\"7.2\"/>\n      </g>\n     </g>\n    </g>\n   </g>\n   <g id=\"matplotlib.axis_2\">\n    <g id=\"ytick_1\">\n     <g id=\"line2d_22\">\n      <path clip-path=\"url(#p9299864d75)\" d=\"M 10.7 239.097738 \nL 390.1 239.097738 \n\" style=\"fill:none;stroke:#b0b0b0;stroke-linecap:square;stroke-width:0.8;\"/>\n     </g>\n     <g id=\"line2d_23\">\n      <defs>\n       <path d=\"M 0 0 \nL -3.5 0 \n\" id=\"m6fea46816d\" style=\"stroke:#000000;stroke-width:0.8;\"/>\n      </defs>\n      <g>\n       <use style=\"stroke:#000000;stroke-width:0.8;\" x=\"10.7\" xlink:href=\"#m6fea46816d\" y=\"239.097738\"/>\n      </g>\n     </g>\n    </g>\n    <g id=\"ytick_2\">\n     <g id=\"line2d_24\">\n      <path clip-path=\"url(#p9299864d75)\" d=\"M 10.7 210.063455 \nL 390.1 210.063455 \n\" style=\"fill:none;stroke:#b0b0b0;stroke-linecap:square;stroke-width:0.8;\"/>\n     </g>\n     <g id=\"line2d_25\">\n      <g>\n       <use style=\"stroke:#000000;stroke-width:0.8;\" x=\"10.7\" xlink:href=\"#m6fea46816d\" y=\"210.063455\"/>\n      </g>\n     </g>\n    </g>\n    <g id=\"ytick_3\">\n     <g id=\"line2d_26\">\n      <path clip-path=\"url(#p9299864d75)\" d=\"M 10.7 181.029171 \nL 390.1 181.029171 \n\" style=\"fill:none;stroke:#b0b0b0;stroke-linecap:square;stroke-width:0.8;\"/>\n     </g>\n     <g id=\"line2d_27\">\n      <g>\n       <use style=\"stroke:#000000;stroke-width:0.8;\" x=\"10.7\" xlink:href=\"#m6fea46816d\" y=\"181.029171\"/>\n      </g>\n     </g>\n    </g>\n    <g id=\"ytick_4\">\n     <g id=\"line2d_28\">\n      <path clip-path=\"url(#p9299864d75)\" d=\"M 10.7 151.994887 \nL 390.1 151.994887 \n\" style=\"fill:none;stroke:#b0b0b0;stroke-linecap:square;stroke-width:0.8;\"/>\n     </g>\n     <g id=\"line2d_29\">\n      <g>\n       <use style=\"stroke:#000000;stroke-width:0.8;\" x=\"10.7\" xlink:href=\"#m6fea46816d\" y=\"151.994887\"/>\n      </g>\n     </g>\n    </g>\n    <g id=\"ytick_5\">\n     <g id=\"line2d_30\">\n      <path clip-path=\"url(#p9299864d75)\" d=\"M 10.7 122.960603 \nL 390.1 122.960603 \n\" style=\"fill:none;stroke:#b0b0b0;stroke-linecap:square;stroke-width:0.8;\"/>\n     </g>\n     <g id=\"line2d_31\">\n      <g>\n       <use style=\"stroke:#000000;stroke-width:0.8;\" x=\"10.7\" xlink:href=\"#m6fea46816d\" y=\"122.960603\"/>\n      </g>\n     </g>\n    </g>\n    <g id=\"ytick_6\">\n     <g id=\"line2d_32\">\n      <path clip-path=\"url(#p9299864d75)\" d=\"M 10.7 93.926319 \nL 390.1 93.926319 \n\" style=\"fill:none;stroke:#b0b0b0;stroke-linecap:square;stroke-width:0.8;\"/>\n     </g>\n     <g id=\"line2d_33\">\n      <g>\n       <use style=\"stroke:#000000;stroke-width:0.8;\" x=\"10.7\" xlink:href=\"#m6fea46816d\" y=\"93.926319\"/>\n      </g>\n     </g>\n    </g>\n    <g id=\"ytick_7\">\n     <g id=\"line2d_34\">\n      <path clip-path=\"url(#p9299864d75)\" d=\"M 10.7 64.892035 \nL 390.1 64.892035 \n\" style=\"fill:none;stroke:#b0b0b0;stroke-linecap:square;stroke-width:0.8;\"/>\n     </g>\n     <g id=\"line2d_35\">\n      <g>\n       <use style=\"stroke:#000000;stroke-width:0.8;\" x=\"10.7\" xlink:href=\"#m6fea46816d\" y=\"64.892035\"/>\n      </g>\n     </g>\n    </g>\n    <g id=\"ytick_8\">\n     <g id=\"line2d_36\">\n      <path clip-path=\"url(#p9299864d75)\" d=\"M 10.7 35.857752 \nL 390.1 35.857752 \n\" style=\"fill:none;stroke:#b0b0b0;stroke-linecap:square;stroke-width:0.8;\"/>\n     </g>\n     <g id=\"line2d_37\">\n      <g>\n       <use style=\"stroke:#000000;stroke-width:0.8;\" x=\"10.7\" xlink:href=\"#m6fea46816d\" y=\"35.857752\"/>\n      </g>\n     </g>\n    </g>\n   </g>\n   <g id=\"LineCollection_1\">\n    <path clip-path=\"url(#p9299864d75)\" d=\"M 48.234225 241.445455 \nL 48.234225 58.77116 \n\" style=\"fill:none;stroke:#ff0000;\"/>\n    <path clip-path=\"url(#p9299864d75)\" d=\"M 98.95615 222.133587 \nL 98.95615 92.743102 \n\" style=\"fill:none;stroke:#008000;\"/>\n    <path clip-path=\"url(#p9299864d75)\" d=\"M 149.678075 150.181684 \nL 149.678075 50.352244 \n\" style=\"fill:none;stroke:#008000;\"/>\n    <path clip-path=\"url(#p9299864d75)\" d=\"M 200.4 124.815561 \nL 200.4 25.433302 \n\" style=\"fill:none;stroke:#008000;\"/>\n    <path clip-path=\"url(#p9299864d75)\" d=\"M 251.121925 209.677577 \nL 251.121925 118.023388 \n\" style=\"fill:none;stroke:#ff0000;\"/>\n    <path clip-path=\"url(#p9299864d75)\" d=\"M 301.84385 155.978429 \nL 301.84385 71.479142 \n\" style=\"fill:none;stroke:#008000;\"/>\n    <path clip-path=\"url(#p9299864d75)\" d=\"M 352.565775 120.934913 \nL 352.565775 18.354545 \n\" style=\"fill:none;stroke:#008000;\"/>\n   </g>\n   <g id=\"patch_10\">\n    <path d=\"M 10.7 252.6 \nL 10.7 7.2 \n\" style=\"fill:none;stroke:#000000;stroke-linecap:square;stroke-linejoin:miter;stroke-width:0.8;\"/>\n   </g>\n   <g id=\"patch_11\">\n    <path d=\"M 390.1 252.6 \nL 390.1 7.2 \n\" style=\"fill:none;stroke:#000000;stroke-linecap:square;stroke-linejoin:miter;stroke-width:0.8;\"/>\n   </g>\n   <g id=\"patch_12\">\n    <path d=\"M 10.7 252.6 \nL 390.1 252.6 \n\" style=\"fill:none;stroke:#000000;stroke-linecap:square;stroke-linejoin:miter;stroke-width:0.8;\"/>\n   </g>\n   <g id=\"patch_13\">\n    <path d=\"M 10.7 7.2 \nL 390.1 7.2 \n\" style=\"fill:none;stroke:#000000;stroke-linecap:square;stroke-linejoin:miter;stroke-width:0.8;\"/>\n   </g>\n  </g>\n </g>\n <defs>\n  <clipPath id=\"p9299864d75\">\n   <rect height=\"245.4\" width=\"379.4\" x=\"10.7\" y=\"7.2\"/>\n  </clipPath>\n </defs>\n</svg>\n",
      "image/png": "[encoded data removed]"
     },
     "metadata": {
      "needs_background": "light"
     }
    }
   ],
   "source": [
    "candlestick_chart = plot_candlestick(cdata)"
   ]
  },
  {
   "source": [
    "# Obtaining trend"
   ],
   "cell_type": "markdown",
   "metadata": {}
  }
 ]
}